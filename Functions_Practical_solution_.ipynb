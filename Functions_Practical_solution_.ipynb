{
  "nbformat": 4,
  "nbformat_minor": 0,
  "metadata": {
    "colab": {
      "provenance": []
    },
    "kernelspec": {
      "name": "python3",
      "display_name": "Python 3"
    },
    "language_info": {
      "name": "python"
    }
  },
  "cells": [
    {
      "cell_type": "markdown",
      "source": [
        "# Q1. Write a Python function that takes a list of numbers as input and returns the sum of all even numbers in"
      ],
      "metadata": {
        "id": "c7PoVBdccgFF"
      }
    },
    {
      "cell_type": "code",
      "source": [
        "def even_sum(numbers):\n",
        "    sum = 0\n",
        "    for n in numbers:\n",
        "        if n%2 == 0:\n",
        "            sum = sum+n\n",
        "    return sum\n",
        "even_sum([1, 2, 12, 14, 16, 13, 17, 18, 11, 10])"
      ],
      "metadata": {
        "id": "WkoAo3j-rn1L",
        "outputId": "88261b04-75e3-4ef2-e249-39d0ade75bd7",
        "colab": {
          "base_uri": "https://localhost:8080/"
        }
      },
      "execution_count": null,
      "outputs": [
        {
          "output_type": "execute_result",
          "data": {
            "text/plain": [
              "72"
            ]
          },
          "metadata": {},
          "execution_count": 16
        }
      ]
    },
    {
      "cell_type": "markdown",
      "source": [
        "# **Q2. Create a Python function that accepts a string and returns the reverse of that string.**"
      ],
      "metadata": {
        "id": "QveV_twKuN3D"
      }
    },
    {
      "cell_type": "code",
      "source": [
        "txt = \"Bijay Barman\"[::-1]\n",
        "print(txt)"
      ],
      "metadata": {
        "colab": {
          "base_uri": "https://localhost:8080/"
        },
        "id": "PtNNyzndue6Z",
        "outputId": "52e25a50-a89a-4690-e6ae-0646854a094b"
      },
      "execution_count": null,
      "outputs": [
        {
          "output_type": "stream",
          "name": "stdout",
          "text": [
            "namraB yajiB\n"
          ]
        }
      ]
    },
    {
      "cell_type": "markdown",
      "source": [
        "# **Q3. Implement a Python function that takes a list of integers and returns a new list containing the squares of each number.**"
      ],
      "metadata": {
        "id": "ULMHQk0Du-IZ"
      }
    },
    {
      "cell_type": "code",
      "source": [
        "def my_list(numbers: list) -> list:\n",
        "    return [num ** 2 for num in numbers]\n",
        "\n",
        "print(my_list([1, 11, 2, 22, 3, 33, 4, 44, 5, 55]))\n"
      ],
      "metadata": {
        "colab": {
          "base_uri": "https://localhost:8080/"
        },
        "id": "lGW9Nm_ZwXAO",
        "outputId": "1225e2cd-7b9b-4378-bc41-841090f72132"
      },
      "execution_count": null,
      "outputs": [
        {
          "output_type": "stream",
          "name": "stdout",
          "text": [
            "[1, 121, 4, 484, 9, 1089, 16, 1936, 25, 3025]\n"
          ]
        }
      ]
    },
    {
      "cell_type": "markdown",
      "source": [
        "# **Q4. Write a Python function that checks if a given number is prime or not from 1 to 200.**"
      ],
      "metadata": {
        "id": "vK4q0XP1x3VN"
      }
    },
    {
      "cell_type": "code",
      "source": [
        "def is_prime(n):\n",
        "    if n < 2 or n > 200:\n",
        "        return False\n",
        "    if n == 2:\n",
        "        return True\n",
        "    if n % 2 == 0:\n",
        "        return False\n",
        "    for i in range(3, int(n ** 0.5) + 1, 2):\n",
        "        if n % i == 0:\n",
        "            return False\n",
        "    return True\n",
        "for num in range(1, 201):\n",
        "    print(f\"{num} is prime: {is_prime(num)}\")"
      ],
      "metadata": {
        "id": "eyCd3WrSyACc",
        "colab": {
          "base_uri": "https://localhost:8080/"
        },
        "outputId": "8c853ec5-9ebc-481f-b337-8099d6336247"
      },
      "execution_count": null,
      "outputs": [
        {
          "output_type": "stream",
          "name": "stdout",
          "text": [
            "1 is prime: False\n",
            "2 is prime: True\n",
            "3 is prime: True\n",
            "4 is prime: False\n",
            "5 is prime: True\n",
            "6 is prime: False\n",
            "7 is prime: True\n",
            "8 is prime: False\n",
            "9 is prime: False\n",
            "10 is prime: False\n",
            "11 is prime: True\n",
            "12 is prime: False\n",
            "13 is prime: True\n",
            "14 is prime: False\n",
            "15 is prime: False\n",
            "16 is prime: False\n",
            "17 is prime: True\n",
            "18 is prime: False\n",
            "19 is prime: True\n",
            "20 is prime: False\n",
            "21 is prime: False\n",
            "22 is prime: False\n",
            "23 is prime: True\n",
            "24 is prime: False\n",
            "25 is prime: False\n",
            "26 is prime: False\n",
            "27 is prime: False\n",
            "28 is prime: False\n",
            "29 is prime: True\n",
            "30 is prime: False\n",
            "31 is prime: True\n",
            "32 is prime: False\n",
            "33 is prime: False\n",
            "34 is prime: False\n",
            "35 is prime: False\n",
            "36 is prime: False\n",
            "37 is prime: True\n",
            "38 is prime: False\n",
            "39 is prime: False\n",
            "40 is prime: False\n",
            "41 is prime: True\n",
            "42 is prime: False\n",
            "43 is prime: True\n",
            "44 is prime: False\n",
            "45 is prime: False\n",
            "46 is prime: False\n",
            "47 is prime: True\n",
            "48 is prime: False\n",
            "49 is prime: False\n",
            "50 is prime: False\n",
            "51 is prime: False\n",
            "52 is prime: False\n",
            "53 is prime: True\n",
            "54 is prime: False\n",
            "55 is prime: False\n",
            "56 is prime: False\n",
            "57 is prime: False\n",
            "58 is prime: False\n",
            "59 is prime: True\n",
            "60 is prime: False\n",
            "61 is prime: True\n",
            "62 is prime: False\n",
            "63 is prime: False\n",
            "64 is prime: False\n",
            "65 is prime: False\n",
            "66 is prime: False\n",
            "67 is prime: True\n",
            "68 is prime: False\n",
            "69 is prime: False\n",
            "70 is prime: False\n",
            "71 is prime: True\n",
            "72 is prime: False\n",
            "73 is prime: True\n",
            "74 is prime: False\n",
            "75 is prime: False\n",
            "76 is prime: False\n",
            "77 is prime: False\n",
            "78 is prime: False\n",
            "79 is prime: True\n",
            "80 is prime: False\n",
            "81 is prime: False\n",
            "82 is prime: False\n",
            "83 is prime: True\n",
            "84 is prime: False\n",
            "85 is prime: False\n",
            "86 is prime: False\n",
            "87 is prime: False\n",
            "88 is prime: False\n",
            "89 is prime: True\n",
            "90 is prime: False\n",
            "91 is prime: False\n",
            "92 is prime: False\n",
            "93 is prime: False\n",
            "94 is prime: False\n",
            "95 is prime: False\n",
            "96 is prime: False\n",
            "97 is prime: True\n",
            "98 is prime: False\n",
            "99 is prime: False\n",
            "100 is prime: False\n",
            "101 is prime: True\n",
            "102 is prime: False\n",
            "103 is prime: True\n",
            "104 is prime: False\n",
            "105 is prime: False\n",
            "106 is prime: False\n",
            "107 is prime: True\n",
            "108 is prime: False\n",
            "109 is prime: True\n",
            "110 is prime: False\n",
            "111 is prime: False\n",
            "112 is prime: False\n",
            "113 is prime: True\n",
            "114 is prime: False\n",
            "115 is prime: False\n",
            "116 is prime: False\n",
            "117 is prime: False\n",
            "118 is prime: False\n",
            "119 is prime: False\n",
            "120 is prime: False\n",
            "121 is prime: False\n",
            "122 is prime: False\n",
            "123 is prime: False\n",
            "124 is prime: False\n",
            "125 is prime: False\n",
            "126 is prime: False\n",
            "127 is prime: True\n",
            "128 is prime: False\n",
            "129 is prime: False\n",
            "130 is prime: False\n",
            "131 is prime: True\n",
            "132 is prime: False\n",
            "133 is prime: False\n",
            "134 is prime: False\n",
            "135 is prime: False\n",
            "136 is prime: False\n",
            "137 is prime: True\n",
            "138 is prime: False\n",
            "139 is prime: True\n",
            "140 is prime: False\n",
            "141 is prime: False\n",
            "142 is prime: False\n",
            "143 is prime: False\n",
            "144 is prime: False\n",
            "145 is prime: False\n",
            "146 is prime: False\n",
            "147 is prime: False\n",
            "148 is prime: False\n",
            "149 is prime: True\n",
            "150 is prime: False\n",
            "151 is prime: True\n",
            "152 is prime: False\n",
            "153 is prime: False\n",
            "154 is prime: False\n",
            "155 is prime: False\n",
            "156 is prime: False\n",
            "157 is prime: True\n",
            "158 is prime: False\n",
            "159 is prime: False\n",
            "160 is prime: False\n",
            "161 is prime: False\n",
            "162 is prime: False\n",
            "163 is prime: True\n",
            "164 is prime: False\n",
            "165 is prime: False\n",
            "166 is prime: False\n",
            "167 is prime: True\n",
            "168 is prime: False\n",
            "169 is prime: False\n",
            "170 is prime: False\n",
            "171 is prime: False\n",
            "172 is prime: False\n",
            "173 is prime: True\n",
            "174 is prime: False\n",
            "175 is prime: False\n",
            "176 is prime: False\n",
            "177 is prime: False\n",
            "178 is prime: False\n",
            "179 is prime: True\n",
            "180 is prime: False\n",
            "181 is prime: True\n",
            "182 is prime: False\n",
            "183 is prime: False\n",
            "184 is prime: False\n",
            "185 is prime: False\n",
            "186 is prime: False\n",
            "187 is prime: False\n",
            "188 is prime: False\n",
            "189 is prime: False\n",
            "190 is prime: False\n",
            "191 is prime: True\n",
            "192 is prime: False\n",
            "193 is prime: True\n",
            "194 is prime: False\n",
            "195 is prime: False\n",
            "196 is prime: False\n",
            "197 is prime: True\n",
            "198 is prime: False\n",
            "199 is prime: True\n",
            "200 is prime: False\n"
          ]
        }
      ]
    },
    {
      "cell_type": "markdown",
      "source": [
        "# **Q5. Create an iterator class in Python that generates the Fibonacci sequence up to a specified number of terms.**"
      ],
      "metadata": {
        "id": "zUQ1GGj9iyCe"
      }
    },
    {
      "cell_type": "code",
      "source": [
        "num = int(input(\"Enter a number  :\"))\n",
        "def fibonacci(num):\n",
        "    if num == 0:\n",
        "        return 0\n",
        "    elif num == 1:\n",
        "        return 1\n",
        "    else:\n",
        "        return fibonacci(num-1) + fibonacci(num-2)\n",
        "\n",
        "for i in range(num):\n",
        "    print(fibonacci(i),end =\" \")"
      ],
      "metadata": {
        "colab": {
          "base_uri": "https://localhost:8080/"
        },
        "id": "LQ6AeJYYjDmu",
        "outputId": "b5886289-ca58-4d9d-fc4c-1822d56e1663"
      },
      "execution_count": null,
      "outputs": [
        {
          "output_type": "stream",
          "name": "stdout",
          "text": [
            "Enter a number  :20\n",
            "0 1 1 2 3 5 8 13 21 34 55 89 144 233 377 610 987 1597 2584 4181 "
          ]
        }
      ]
    },
    {
      "cell_type": "markdown",
      "source": [
        "# **Q6. Write a generator function in Python that yields the powers of 2 up to a given exponent.**"
      ],
      "metadata": {
        "id": "QcSA3uaUo13n"
      }
    },
    {
      "cell_type": "code",
      "source": [
        "def powers_of_2(exponent):\n",
        "    for i in range(exponent + 1):\n",
        "        yield 2 ** i\n",
        "for power in powers_of_2(15):\n",
        "    print(power)"
      ],
      "metadata": {
        "colab": {
          "base_uri": "https://localhost:8080/"
        },
        "id": "N3JoNAuxpEgE",
        "outputId": "b2b39bbe-8b69-4211-c432-971df86cb7f3"
      },
      "execution_count": null,
      "outputs": [
        {
          "output_type": "stream",
          "name": "stdout",
          "text": [
            "1\n",
            "2\n",
            "4\n",
            "8\n",
            "16\n",
            "32\n",
            "64\n",
            "128\n",
            "256\n",
            "512\n",
            "1024\n",
            "2048\n",
            "4096\n",
            "8192\n",
            "16384\n",
            "32768\n"
          ]
        }
      ]
    },
    {
      "cell_type": "markdown",
      "source": [
        "# **Q7. Implement a generator function that reads a file line by line and yields each line as a string.**"
      ],
      "metadata": {
        "id": "Wwiv2izdrjFY"
      }
    },
    {
      "cell_type": "code",
      "source": [
        "L = [\"Narendra\\n\", \"Damodar\\n\", \"Modi\\n\"]\n",
        "file1 = open('myfile.txt', 'w')\n",
        "file1.writelines(L)\n",
        "file1.close()\n",
        "file1 = open('myfile.txt', 'r')\n",
        "Lines = file1.readlines()\n",
        "\n",
        "count = 0\n",
        "\n",
        "for line in Lines:\n",
        "    count += 1\n",
        "    print(\"Line{}: {}\".format(count, line.strip()))"
      ],
      "metadata": {
        "id": "1FGZH6rzqVFy",
        "colab": {
          "base_uri": "https://localhost:8080/"
        },
        "outputId": "8de1ab70-b8ae-4e9a-eca3-c1ff06d764a0"
      },
      "execution_count": null,
      "outputs": [
        {
          "output_type": "stream",
          "name": "stdout",
          "text": [
            "Line1: Narendra\n",
            "Line2: Damodar\n",
            "Line3: Modi\n"
          ]
        }
      ]
    },
    {
      "cell_type": "markdown",
      "source": [
        "# **Q8. Use a lambda function in Python to sort a list of tuples based on the second element of each tuple.**"
      ],
      "metadata": {
        "id": "4vHFrAiCy1Zt"
      }
    },
    {
      "cell_type": "code",
      "source": [
        "d = [(1, 5), (3, 2), (2, 8), (4, 1)]\n",
        "n = 1\n",
        "main = sorted(d, key=lambda x: x[n])\n",
        "\n",
        "print(main)"
      ],
      "metadata": {
        "colab": {
          "base_uri": "https://localhost:8080/"
        },
        "id": "bmHUhuqyy_Az",
        "outputId": "afb09487-d97a-43e1-89f5-d30d6866ec9e"
      },
      "execution_count": null,
      "outputs": [
        {
          "output_type": "stream",
          "name": "stdout",
          "text": [
            "[(4, 1), (3, 2), (1, 5), (2, 8)]\n"
          ]
        }
      ]
    },
    {
      "cell_type": "markdown",
      "source": [
        "# **Q9. Write a Python program that uses `map()` to convert a list of temperatures from Celsius to Fahrenheit.**"
      ],
      "metadata": {
        "id": "ae0WZpjr0AmZ"
      }
    },
    {
      "cell_type": "code",
      "source": [
        "celsius = 37\n",
        "fahrenheit = (celsius * 9/5) + 32\n",
        "print(f\"Original Celsius temperature: {celsius}A'C\")\n",
        "print(f\"Equivalent Fahrenheit temperature: {fahrenheit:2f}'F\")"
      ],
      "metadata": {
        "colab": {
          "base_uri": "https://localhost:8080/"
        },
        "id": "6OryUjyF1TIm",
        "outputId": "f909130f-663c-4fad-c94f-8e57dd3363b3"
      },
      "execution_count": null,
      "outputs": [
        {
          "output_type": "stream",
          "name": "stdout",
          "text": [
            "Original Celsius temperature: 37A'C\n",
            "Equivalent Fahrenheit temperature: 98.600000'F\n"
          ]
        }
      ]
    },
    {
      "cell_type": "markdown",
      "source": [
        "# **Q10. Create a Python program that uses `filter()` to remove all the vowels from a given string.**"
      ],
      "metadata": {
        "id": "2puHYsmV3N0A"
      }
    },
    {
      "cell_type": "code",
      "source": [
        "string = \"Narendra Modi\"\n",
        "\n",
        "vowels = ['a', 'e', 'i', 'o', 'u', 'A', 'E', 'I', 'O', 'U']\n",
        "result = \"\"\n",
        "\n",
        "for char in string:\n",
        "    if char not in vowels:\n",
        "        result = result + char\n",
        "\n",
        "print(\"\\nAfter removing Vowels: \", result)"
      ],
      "metadata": {
        "colab": {
          "base_uri": "https://localhost:8080/"
        },
        "id": "0gzD0aR43ZtP",
        "outputId": "3c3fdcd2-d63b-4078-c836-d0272471fd17"
      },
      "execution_count": null,
      "outputs": [
        {
          "output_type": "stream",
          "name": "stdout",
          "text": [
            "\n",
            "After removing Vowels:  nrndr md\n"
          ]
        }
      ]
    }
  ]
}